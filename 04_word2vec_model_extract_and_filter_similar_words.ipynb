{
 "cells": [
  {
   "cell_type": "code",
   "execution_count": null,
   "metadata": {},
   "outputs": [],
   "source": [
    "import os\n",
    "import csv\n",
    "from gensim.models import Word2Vec\n",
    "from scipy.spatial.distance import cosine\n",
    "import numpy as np\n",
    "import pandas as pd\n",
    "import gensim\n",
    "from nltk import everygrams\n",
    "import numpy as np"
   ]
  },
  {
   "cell_type": "markdown",
   "metadata": {},
   "source": [
    "#### Import Word2Vec Model:"
   ]
  },
  {
   "cell_type": "code",
   "execution_count": null,
   "metadata": {},
   "outputs": [],
   "source": [
    "model = Word2Vec.load(\"word2vec_model.model\")\n",
    "print(\"Model loaded successfully.\")"
   ]
  },
  {
   "cell_type": "markdown",
   "metadata": {},
   "source": [
    "#### Word2Vec Extract Keywords:"
   ]
  },
  {
   "cell_type": "code",
   "execution_count": null,
   "metadata": {
    "scrolled": true
   },
   "outputs": [],
   "source": [
    "# Find similar words \n",
    "keyword = 'timestep'\n",
    "similar_words_fabric = model.wv.most_similar(keyword, topn=500)\n",
    "\n",
    "print(\"Words similar to\", keyword)\n",
    "for word, similarity in similar_words_fabric:\n",
    "    print(f\"{word}: {similarity}\")\n"
   ]
  },
  {
   "cell_type": "code",
   "execution_count": null,
   "metadata": {},
   "outputs": [],
   "source": [
    "# Save to CSV file\n",
    "csv_filename = 'similar_words_data.csv'\n",
    "with open(csv_filename, mode='w', newline='', encoding='utf-8') as file:\n",
    "    writer = csv.writer(file)\n",
    "    # Write the header row\n",
    "    writer.writerow(['Word', 'Similarity'])\n",
    "    # Write data\n",
    "    for word, similarity in similar_words_fabric:\n",
    "        writer.writerow([word, similarity])\n",
    "\n",
    "print(f\"Data has been saved to {csv_filename}\")"
   ]
  },
  {
   "cell_type": "markdown",
   "metadata": {},
   "source": [
    "#### Load CSV:"
   ]
  },
  {
   "cell_type": "code",
   "execution_count": null,
   "metadata": {},
   "outputs": [],
   "source": [
    "# Load the CSV file\n",
    "df_raw = pd.read_csv('/Users/77y2vec/Desktop/first_paper_code/results/similar_words_output.csv')\n",
    "\n",
    "# Create a dictionary where each row's first word is the key and the value is the list of all words in that row\n",
    "words_dict_raw = df_raw.apply(lambda row: {row.iloc[0]: row.dropna().tolist()}, axis=1).to_dict()\n",
    "\n",
    "# Combine all dictionaries into one\n",
    "dict_raw = {}\n",
    "for d in words_dict_raw.values():\n",
    "    dict_raw.update(d)\n"
   ]
  },
  {
   "cell_type": "code",
   "execution_count": null,
   "metadata": {},
   "outputs": [],
   "source": [
    "# Load the target CSV file\n",
    "df_recommender = pd.read_csv('/Users/77y2vec/Desktop/first_paper_code/results/raw/similar_words_rs.csv')\n",
    "\n",
    "# Create a dictionary from the new CSV file\n",
    "words_dict_recommender = df_recommender.apply(lambda row: {row.iloc[0]: row.dropna().tolist()}, axis=1).to_dict()\n",
    "\n",
    "# Combine all dictionaries into one\n",
    "dict_recommender = {}\n",
    "for d in words_dict_recommender.values():\n",
    "    dict_recommender.update(d)"
   ]
  },
  {
   "cell_type": "markdown",
   "metadata": {},
   "source": [
    "#### Calculate N-gram and Filter Irrelevant Words:"
   ]
  },
  {
   "cell_type": "code",
   "execution_count": null,
   "metadata": {},
   "outputs": [],
   "source": [
    "# Function to calculate average cosine similarity between two word lists\n",
    "def calculate_average_similarity(list1, list2, model):\n",
    "    valid_scores = []\n",
    "    for word1 in list1:\n",
    "        for word2 in list2:\n",
    "            if word1 in model.wv and word2 in model.wv:\n",
    "                similarity_score = model.wv.similarity(word1, word2)\n",
    "                valid_scores.append(similarity_score)\n",
    "    return np.mean(valid_scores) if valid_scores else 0  # Return 0 if there are no valid scores\n",
    "\n",
    "# Initialize an empty similarity matrix\n",
    "similarity_matrix = np.zeros((len(dict_raw), len(dict_recommender)))\n",
    "\n",
    "# Calculate average cosine similarity for each pair of word lists in the dictionaries\n",
    "for i, (key1, words1) in enumerate(dict_raw.items()):\n",
    "    for j, (key2, words2) in enumerate(dict_recommender.items()):\n",
    "        similarity_matrix[i][j] = calculate_average_similarity(words1, words2, model)\n",
    "\n",
    "# Filtering out words based on the average similarity\n",
    "average_similarities = np.mean(similarity_matrix, axis=1)\n",
    "filtered_keys = [key for key, avg_sim in zip(dict_raw.keys(), average_similarities) if avg_sim >= 0]\n",
    "\n",
    "# Updating dict_algorithm to only include words with similarity >= 0\n",
    "filtered_dict_raw = {key: dict_raw[key] for key in filtered_keys}\n",
    "\n",
    "# Convert the filtered dictionary to a DataFrame and save it to a CSV file\n",
    "df = pd.DataFrame.from_dict(filtered_dict_raw, orient='index').reset_index()\n",
    "df.rename(columns={'index': 'Keyword'}, inplace=True)\n",
    "df = df.explode('Keyword')  # If you want each value in its own row\n",
    "df.to_csv('filtered_data_output.csv', index=False)\n",
    "\n",
    "print(\"Filtered data has been saved!\")"
   ]
  },
  {
   "cell_type": "code",
   "execution_count": null,
   "metadata": {},
   "outputs": [],
   "source": []
  }
 ],
 "metadata": {
  "kernelspec": {
   "display_name": "Python 3 (ipykernel)",
   "language": "python",
   "name": "python3"
  },
  "language_info": {
   "codemirror_mode": {
    "name": "ipython",
    "version": 3
   },
   "file_extension": ".py",
   "mimetype": "text/x-python",
   "name": "python",
   "nbconvert_exporter": "python",
   "pygments_lexer": "ipython3",
   "version": "3.9.19"
  }
 },
 "nbformat": 4,
 "nbformat_minor": 4
}
