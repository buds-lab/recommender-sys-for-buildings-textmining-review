{
 "cells": [
  {
   "cell_type": "code",
   "execution_count": null,
   "metadata": {},
   "outputs": [],
   "source": [
    "import os\n",
    "import pandas as pd\n",
    "import matplotlib.pyplot as plt\n",
    "from scipy.cluster.hierarchy import dendrogram, linkage\n",
    "from gensim.models import Word2Vec"
   ]
  },
  {
   "cell_type": "markdown",
   "metadata": {},
   "source": [
    "#### Import Word2Vec Model:"
   ]
  },
  {
   "cell_type": "code",
   "execution_count": null,
   "metadata": {},
   "outputs": [],
   "source": [
    "model = Word2Vec.load(\"word2vec_model.model\")\n",
    "print(\"Model loaded successfully.\")"
   ]
  },
  {
   "cell_type": "markdown",
   "metadata": {},
   "source": [
    "#### Ward’s Hierarchical Agglomerative Clustering Method:"
   ]
  },
  {
   "cell_type": "code",
   "execution_count": null,
   "metadata": {},
   "outputs": [],
   "source": [
    "# Load the CSV file\n",
    "df = pd.read_csv('/.../filtered_data_alg.csv')  # Adjust this to the correct file path\n",
    "\n",
    "# Extract words from the CSV file starting from the second row\n",
    "selected_words = df.iloc[1:, 0].tolist()  # Assumes words are in the first column starting from the second row\n",
    "\n",
    "# Check if these words are in the model's vocabulary and extract their vectors\n",
    "vectors = [model.wv[word] for word in selected_words if word in model.wv]\n",
    "\n",
    "# Perform hierarchical clustering using the Ward method\n",
    "Z = linkage(vectors, method='ward')\n"
   ]
  },
  {
   "cell_type": "code",
   "execution_count": null,
   "metadata": {},
   "outputs": [],
   "source": [
    "# Define the file save path\n",
    "save_path = '/.../results/clustering/'\n",
    "if not os.path.exists(save_path):\n",
    "    os.makedirs(save_path)  # Create directory if it does not exist\n",
    "\n",
    "plt.figure(figsize=(11, 3))\n",
    "dendrogram(Z, labels=selected_words, leaf_rotation=90, leaf_font_size=8)\n",
    "plt.title('Hierarchical Clustering Dendrogram')\n",
    "plt.xlabel('Word')\n",
    "plt.ylabel('Distance')\n",
    "plt.subplots_adjust(bottom=0.25)\n",
    "plt.tight_layout()\n",
    "plot_file = os.path.join(save_path, 'alg_dendrogram.png')\n",
    "plt.savefig(plot_file, format='png', dpi=600)  # Save before showing\n",
    "plt.show()\n",
    "plt.close()\n",
    "\n",
    "print(f\"Dendrogram saved to {plot_file}\")"
   ]
  },
  {
   "cell_type": "code",
   "execution_count": null,
   "metadata": {},
   "outputs": [],
   "source": []
  }
 ],
 "metadata": {
  "kernelspec": {
   "display_name": "Python 3 (ipykernel)",
   "language": "python",
   "name": "python3"
  },
  "language_info": {
   "codemirror_mode": {
    "name": "ipython",
    "version": 3
   },
   "file_extension": ".py",
   "mimetype": "text/x-python",
   "name": "python",
   "nbconvert_exporter": "python",
   "pygments_lexer": "ipython3",
   "version": "3.10.14"
  }
 },
 "nbformat": 4,
 "nbformat_minor": 4
}
